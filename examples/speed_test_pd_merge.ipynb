{
 "cells": [
  {
   "cell_type": "code",
   "execution_count": 1,
   "metadata": {},
   "outputs": [],
   "source": [
    "import numpy as np\n",
    "import pandas as pd\n",
    "import scml\n",
    "from scml.encoders import _deprecated_group_features"
   ]
  },
  {
   "cell_type": "code",
   "execution_count": 2,
   "metadata": {},
   "outputs": [],
   "source": [
    "n_trials = 10\n",
    "size = 1000000\n",
    "dfs = []\n",
    "statistics = []\n",
    "for i in range(n_trials):\n",
    "    df = pd.DataFrame(\n",
    "        {\n",
    "            \"a\": np.random.rand(size),\n",
    "            \"b\": np.random.randint(10000, size=size)\n",
    "        },\n",
    "    )\n",
    "    st = scml.group_statistics(df, column=\"a\", group_columns=[\"b\"])\n",
    "    dfs.append(df)\n",
    "    statistics.append(st)\n"
   ]
  },
  {
   "cell_type": "code",
   "execution_count": 3,
   "metadata": {},
   "outputs": [
    {
     "name": "stdout",
     "output_type": "stream",
     "text": [
      "2.25 s ± 9.14 ms per loop (mean ± std. dev. of 7 runs, 1 loop each)\n"
     ]
    }
   ],
   "source": [
    "%%timeit\n",
    "for i in range(n_trials):\n",
    "    scml.group_features(\n",
    "        dfs[i],\n",
    "        statistics=statistics[i],\n",
    "        column=\"a\",\n",
    "        group_columns=[\"b\"],\n",
    "    )"
   ]
  },
  {
   "cell_type": "code",
   "execution_count": 4,
   "metadata": {},
   "outputs": [
    {
     "name": "stdout",
     "output_type": "stream",
     "text": [
      "2.19 s ± 7.84 ms per loop (mean ± std. dev. of 7 runs, 1 loop each)\n"
     ]
    }
   ],
   "source": [
    "%%timeit\n",
    "for i in range(n_trials):\n",
    "    _deprecated_group_features(\n",
    "        dfs[i],\n",
    "        statistics=statistics[i],\n",
    "        column=\"a\",\n",
    "        group_columns=[\"b\"],\n",
    "    )"
   ]
  }
 ],
 "metadata": {
  "kernelspec": {
   "display_name": "Python 3",
   "language": "python",
   "name": "python3"
  },
  "language_info": {
   "codemirror_mode": {
    "name": "ipython",
    "version": 3
   },
   "file_extension": ".py",
   "mimetype": "text/x-python",
   "name": "python",
   "nbconvert_exporter": "python",
   "pygments_lexer": "ipython3",
   "version": "3.7.5"
  }
 },
 "nbformat": 4,
 "nbformat_minor": 4
}
