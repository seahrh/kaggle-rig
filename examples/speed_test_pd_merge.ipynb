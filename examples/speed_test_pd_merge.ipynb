{
 "cells": [
  {
   "cell_type": "code",
   "execution_count": 1,
   "metadata": {},
   "outputs": [],
   "source": [
    "import numpy as np\n",
    "import pandas as pd\n",
    "from tqdm import tqdm\n",
    "import scml\n",
    "from scml.encoders import _deprecated_group_features"
   ]
  },
  {
   "cell_type": "code",
   "execution_count": 2,
   "metadata": {},
   "outputs": [
    {
     "name": "stderr",
     "output_type": "stream",
     "text": [
      "100%|██████████| 4/4 [01:14<00:00, 18.70s/it]\n"
     ]
    }
   ],
   "source": [
    "n_trials = 4\n",
    "size = 10000000\n",
    "dfs = []\n",
    "statistics_1 = []\n",
    "statistics_2 = []\n",
    "for i in tqdm(range(n_trials)):\n",
    "    df = pd.DataFrame(\n",
    "        {\n",
    "            \"a\": np.random.rand(size),\n",
    "            \"b\": np.random.randint(100, size=size),\n",
    "            \"c\": np.random.randint(100, size=size),\n",
    "        },\n",
    "    )\n",
    "    dfs.append(df)\n",
    "    st = scml.group_statistics(df, column=\"a\", group_columns=[\"b\"])\n",
    "    statistics_1.append(st)\n",
    "    st = scml.group_statistics(df, column=\"a\", group_columns=[\"b\", \"c\"])\n",
    "    statistics_2.append(st)\n"
   ]
  },
  {
   "cell_type": "code",
   "execution_count": 3,
   "metadata": {},
   "outputs": [
    {
     "name": "stdout",
     "output_type": "stream",
     "text": [
      "25.9 s ± 270 ms per loop (mean ± std. dev. of 7 runs, 1 loop each)\n"
     ]
    }
   ],
   "source": [
    "%%timeit\n",
    "for i in range(n_trials):\n",
    "    scml.group_features(\n",
    "        dfs[i],\n",
    "        statistics=statistics_1[i],\n",
    "        column=\"a\",\n",
    "        group_columns=[\"b\"],\n",
    "    )"
   ]
  },
  {
   "cell_type": "code",
   "execution_count": 4,
   "metadata": {},
   "outputs": [
    {
     "name": "stdout",
     "output_type": "stream",
     "text": [
      "25.9 s ± 255 ms per loop (mean ± std. dev. of 7 runs, 1 loop each)\n"
     ]
    }
   ],
   "source": [
    "%%timeit\n",
    "for i in range(n_trials):\n",
    "    _deprecated_group_features(\n",
    "        dfs[i],\n",
    "        statistics=statistics_1[i],\n",
    "        column=\"a\",\n",
    "        group_columns=[\"b\"],\n",
    "    )"
   ]
  },
  {
   "cell_type": "code",
   "execution_count": 5,
   "metadata": {},
   "outputs": [
    {
     "name": "stdout",
     "output_type": "stream",
     "text": [
      "42.7 s ± 446 ms per loop (mean ± std. dev. of 7 runs, 1 loop each)\n"
     ]
    }
   ],
   "source": [
    "%%timeit\n",
    "for i in range(n_trials):\n",
    "    scml.group_features(\n",
    "        dfs[i],\n",
    "        statistics=statistics_2[i],\n",
    "        column=\"a\",\n",
    "        group_columns=[\"b\", \"c\"],\n",
    "    )"
   ]
  },
  {
   "cell_type": "code",
   "execution_count": 6,
   "metadata": {},
   "outputs": [
    {
     "name": "stdout",
     "output_type": "stream",
     "text": [
      "29 s ± 431 ms per loop (mean ± std. dev. of 7 runs, 1 loop each)\n"
     ]
    }
   ],
   "source": [
    "%%timeit\n",
    "for i in range(n_trials):\n",
    "    _deprecated_group_features(\n",
    "        dfs[i],\n",
    "        statistics=statistics_2[i],\n",
    "        column=\"a\",\n",
    "        group_columns=[\"b\", \"c\"],\n",
    "    )"
   ]
  }
 ],
 "metadata": {
  "kernelspec": {
   "display_name": "Python 3",
   "language": "python",
   "name": "python3"
  },
  "language_info": {
   "codemirror_mode": {
    "name": "ipython",
    "version": 3
   },
   "file_extension": ".py",
   "mimetype": "text/x-python",
   "name": "python",
   "nbconvert_exporter": "python",
   "pygments_lexer": "ipython3",
   "version": "3.7.5"
  }
 },
 "nbformat": 4,
 "nbformat_minor": 4
}
